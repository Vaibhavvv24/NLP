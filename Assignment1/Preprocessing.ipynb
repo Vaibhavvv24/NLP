{
 "cells": [
  {
   "cell_type": "code",
   "execution_count": 1,
   "metadata": {},
   "outputs": [
    {
     "name": "stderr",
     "output_type": "stream",
     "text": [
      "[nltk_data] Downloading package punkt to\n",
      "[nltk_data]     C:\\Users\\ketan\\AppData\\Roaming\\nltk_data...\n",
      "[nltk_data]   Package punkt is already up-to-date!\n",
      "[nltk_data] Downloading package averaged_perceptron_tagger to\n",
      "[nltk_data]     C:\\Users\\ketan\\AppData\\Roaming\\nltk_data...\n",
      "[nltk_data]   Package averaged_perceptron_tagger is already up-to-\n",
      "[nltk_data]       date!\n"
     ]
    },
    {
     "name": "stdout",
     "output_type": "stream",
     "text": [
      "                                        cleaned_text\n",
      "0  [(the, DET), (industry, NOUN), (has, VERB), (s...\n",
      "1  [(love, VERB), (this, DET), (place, NOUN), (!!...\n",
      "2  [(this, DET), (problem, NOUN), (of, ADP), (the...\n",
      "3  [(esso, PROPN), (said, VERB), (0, X), (the, DE...\n",
      "4  [(he, PRON), (drew, VERB), (a, DET), (deep, AD...\n"
     ]
    }
   ],
   "source": [
    "import ast\n",
    "import re\n",
    "import pandas as pd\n",
    "import nltk\n",
    "nltk.download('punkt')\n",
    "nltk.download('averaged_perceptron_tagger')\n",
    "\n",
    "# Load the dataset\n",
    "file_path = \"dataset\\TRAIN.csv\"\n",
    "df = pd.read_csv(file_path)\n",
    "\n",
    "def preprocess_text(text):\n",
    "    # Convert string representation of list into actual list\n",
    "    try:\n",
    "        words_with_tags = ast.literal_eval(text)\n",
    "    except (SyntaxError, ValueError):\n",
    "        return \"\"\n",
    "    \n",
    "    # Keep words and tags unchanged\n",
    "    words_with_tags = [(word.lower(), tag) for word, tag in words_with_tags]\n",
    "    \n",
    "    return words_with_tags\n",
    "\n",
    "# Apply preprocessing to dataset\n",
    "df['cleaned_text'] = df.iloc[:, 0].apply(preprocess_text)\n",
    "\n",
    "# Display the first few rows\n",
    "print(df[['cleaned_text']].head()) "
   ]
  },
  {
   "cell_type": "code",
   "execution_count": null,
   "metadata": {},
   "outputs": [],
   "source": [
    "C:\\\\Users\\\\ketan\\\\OneDrive - iiit-b\\\\Desktop\\\\Sem6\\\\NLP\\\\NLP\\\\Assignment1\\\\dataset\\\\TRAIN.csv"
   ]
  }
 ],
 "metadata": {
  "kernelspec": {
   "display_name": "Python 3",
   "language": "python",
   "name": "python3"
  },
  "language_info": {
   "codemirror_mode": {
    "name": "ipython",
    "version": 3
   },
   "file_extension": ".py",
   "mimetype": "text/x-python",
   "name": "python",
   "nbconvert_exporter": "python",
   "pygments_lexer": "ipython3",
   "version": "3.11.9"
  }
 },
 "nbformat": 4,
 "nbformat_minor": 2
}
