{
 "cells": [
  {
   "cell_type": "code",
   "execution_count": 1,
   "metadata": {},
   "outputs": [],
   "source": [
    "import pandas as pd\n",
    "import numpy as np\n",
    "import matplotlib.pyplot as plt\n",
    "import seaborn as sns\n",
    "from collections import defaultdict\n",
    "import ast"
   ]
  },
  {
   "cell_type": "code",
   "execution_count": 2,
   "metadata": {},
   "outputs": [],
   "source": [
    "train_path = r\"C:\\Users\\mitta\\OneDrive - iiit-b\\Documents\\NLP\\Assignment1\\dataset\\TRAIN.csv\"\n",
    "test_path = r\"C:\\Users\\mitta\\OneDrive - iiit-b\\Documents\\NLP\\Assignment1\\dataset\\TEST.csv\"\n",
    "\n",
    "train_data = pd.read_csv(train_path, header=None, names=['sentence'])\n",
    "test_data = pd.read_csv(test_path, header=None, names=['sentence'])"
   ]
  },
  {
   "cell_type": "code",
   "execution_count": 3,
   "metadata": {},
   "outputs": [],
   "source": [
    "train_data['sentence'] = train_data['sentence'].apply(ast.literal_eval)\n",
    "test_data['sentence'] = test_data['sentence'].apply(ast.literal_eval)\n",
    "\n",
    "words = set(word for sentence in train_data['sentence'] for word, _ in sentence)\n",
    "tags = set(tag for sentence in train_data['sentence'] for _, tag in sentence)\n",
    "\n",
    "transition_counts = defaultdict(lambda: defaultdict(int))\n",
    "emission_counts = defaultdict(lambda: defaultdict(int))\n",
    "initial_counts = defaultdict(int)"
   ]
  },
  {
   "cell_type": "code",
   "execution_count": 4,
   "metadata": {},
   "outputs": [],
   "source": [
    "def train_hmm(train_data):\n",
    "    for sentence in train_data['sentence']:\n",
    "        prev_tag = None\n",
    "        for word, tag in sentence:\n",
    "            emission_counts[tag][word] += 1\n",
    "            if prev_tag is not None:\n",
    "                transition_counts[prev_tag][tag] += 1\n",
    "            else:\n",
    "                initial_counts[tag] += 1\n",
    "            prev_tag = tag\n"
   ]
  },
  {
   "cell_type": "code",
   "execution_count": 5,
   "metadata": {},
   "outputs": [],
   "source": [
    "def normalize_counts(counts):\n",
    "    probabilities = {}\n",
    "    for key, sub_counts in counts.items():\n",
    "        total = sum(sub_counts.values())\n",
    "        probabilities[key] = {k: v / total for k, v in sub_counts.items()}\n",
    "    return probabilities"
   ]
  },
  {
   "cell_type": "code",
   "execution_count": 6,
   "metadata": {},
   "outputs": [],
   "source": [
    "train_hmm(train_data)\n",
    "transition_probs = normalize_counts(transition_counts)\n",
    "emission_probs = normalize_counts(emission_counts)\n",
    "initial_probs = {k: v / sum(initial_counts.values()) for k, v in initial_counts.items()}\n"
   ]
  },
  {
   "cell_type": "code",
   "execution_count": 7,
   "metadata": {},
   "outputs": [],
   "source": [
    "def viterbi(words, transition_probs, emission_probs, initial_probs, tags):\n",
    "    V = [{}]\n",
    "    backpointer = [{}]\n",
    "    \n",
    "    for tag in tags:\n",
    "        V[0][tag] = initial_probs.get(tag, 0) * emission_probs[tag].get(words[0], 0)\n",
    "        backpointer[0][tag] = None\n",
    "    \n",
    "    for t in range(1, len(words)):\n",
    "        V.append({})\n",
    "        backpointer.append({})\n",
    "        for tag in tags:\n",
    "            max_prob, best_prev_tag = max(\n",
    "                (V[t-1][prev_tag] * transition_probs[prev_tag].get(tag, 0) * emission_probs[tag].get(words[t], 0), prev_tag)\n",
    "                for prev_tag in tags\n",
    "            )\n",
    "            V[t][tag] = max_prob\n",
    "            backpointer[t][tag] = best_prev_tag\n",
    "    \n",
    "    best_last_tag = max(V[-1], key=V[-1].get)\n",
    "    best_path = [best_last_tag]\n",
    "    for t in range(len(words) - 1, 0, -1):\n",
    "        best_path.insert(0, backpointer[t][best_path[0]])\n",
    "    \n",
    "    return best_path"
   ]
  },
  {
   "cell_type": "code",
   "execution_count": 8,
   "metadata": {},
   "outputs": [
    {
     "name": "stdout",
     "output_type": "stream",
     "text": [
      "Model Accuracy: 82.45245454028328%\n"
     ]
    }
   ],
   "source": [
    "def evaluate(test_data):\n",
    "    correct, total = 0, 0\n",
    "    for sentence in test_data['sentence']:\n",
    "        words = [word for word,_ in sentence]\n",
    "        actual_tags = [tag for _, tag in sentence]\n",
    "        predicted_tags = viterbi(words, transition_probs, emission_probs, initial_probs, tags)\n",
    "        correct += sum(p == a for p, a in zip(predicted_tags, actual_tags))\n",
    "        total += len(actual_tags)\n",
    "    accuracy = correct / total if total > 0 else 0\n",
    "    print(\"Model Accuracy: \"+str(accuracy*100)+\"%\")\n",
    "\n",
    "evaluate(test_data)\n"
   ]
  },
  {
   "cell_type": "code",
   "execution_count": 9,
   "metadata": {},
   "outputs": [
    {
     "ename": "TypeError",
     "evalue": "viterbi() missing 1 required positional argument: 'tags'",
     "output_type": "error",
     "traceback": [
      "\u001b[1;31m---------------------------------------------------------------------------\u001b[0m",
      "\u001b[1;31mTypeError\u001b[0m                                 Traceback (most recent call last)",
      "Cell \u001b[1;32mIn[9], line 2\u001b[0m\n\u001b[0;32m      1\u001b[0m sentence\u001b[38;5;241m=\u001b[39m[\u001b[38;5;124m'\u001b[39m\u001b[38;5;124mHe\u001b[39m\u001b[38;5;124m'\u001b[39m,\u001b[38;5;124m'\u001b[39m\u001b[38;5;124mdrew\u001b[39m\u001b[38;5;124m'\u001b[39m,\u001b[38;5;124m'\u001b[39m\u001b[38;5;124ma\u001b[39m\u001b[38;5;124m'\u001b[39m,\u001b[38;5;124m'\u001b[39m\u001b[38;5;124mdeep\u001b[39m\u001b[38;5;124m'\u001b[39m,\u001b[38;5;124m'\u001b[39m\u001b[38;5;124mbreath\u001b[39m\u001b[38;5;124m'\u001b[39m]\n\u001b[1;32m----> 2\u001b[0m predicted_tags \u001b[38;5;241m=\u001b[39m \u001b[43mviterbi\u001b[49m\u001b[43m(\u001b[49m\u001b[43msentence\u001b[49m\u001b[43m,\u001b[49m\u001b[43m \u001b[49m\u001b[43mtransition_probs\u001b[49m\u001b[43m,\u001b[49m\u001b[43m \u001b[49m\u001b[43memission_probs\u001b[49m\u001b[43m,\u001b[49m\u001b[43m \u001b[49m\u001b[43minitial_probs\u001b[49m\u001b[43m)\u001b[49m\n\u001b[0;32m      3\u001b[0m predicted_tags\n",
      "\u001b[1;31mTypeError\u001b[0m: viterbi() missing 1 required positional argument: 'tags'"
     ]
    }
   ],
   "source": [
    "sentence=['He','drew','a','deep','breath']\n",
    "predicted_tags = viterbi(sentence, transition_probs, emission_probs, initial_probs)\n",
    "predicted_tags"
   ]
  }
 ],
 "metadata": {
  "kernelspec": {
   "display_name": "Python 3",
   "language": "python",
   "name": "python3"
  },
  "language_info": {
   "codemirror_mode": {
    "name": "ipython",
    "version": 3
   },
   "file_extension": ".py",
   "mimetype": "text/x-python",
   "name": "python",
   "nbconvert_exporter": "python",
   "pygments_lexer": "ipython3",
   "version": "3.11.0"
  }
 },
 "nbformat": 4,
 "nbformat_minor": 2
}
